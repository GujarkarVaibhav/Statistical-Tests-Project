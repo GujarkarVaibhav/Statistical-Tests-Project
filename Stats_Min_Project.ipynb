{
 "cells": [
  {
   "cell_type": "code",
   "execution_count": 2,
   "metadata": {},
   "outputs": [],
   "source": [
    "import pandas as pd\n",
    "import numpy as np\n",
    "import matplotlib.pyplot as plt\n",
    "import scipy.stats as stats\n",
    "import seaborn as sns"
   ]
  },
  {
   "cell_type": "markdown",
   "metadata": {},
   "source": [
    "### Q1. You were recently hired as a business analyst in a top sports company. The senior management team has asked you to come up with metrics with which they can gauge which team will win the upcoming La Liga cup (Football tournament). The given data set contains information on all the teams that have so far participated in all the past tournaments. It has data about how many goals each team scored, conceded; how many times they came within the first 6 positions, how many seasons they have qualified, their best position in the past, etc. You are required to do the following:\n",
    "\n",
    "Before doing any analysis it would be a good idea to check for any hypens or other symbols the data set and make appropriate replacements to make sure you can perform arithmetic operations on the data. Prepare a short report to answer the following questions:\n",
    "\n",
    "1.Which are the teams which started playing between 1930-1980?\n",
    "\n",
    "2.Which are the top 5 teams in terms of points?\n",
    "\n",
    "3.What is the distribution of the winning percentage for all teams? Which teams are in the top 5 in terms of winning            percentage? (Winning percentage= (GamesWon / GamesPlayed)*100)\n",
    "\n",
    "4.Is there a significant difference in the winning percentage for teams which have attained a best position between 1-3 and those teams which have had a best position between 4-7.\n"
   ]
  },
  {
   "cell_type": "code",
   "execution_count": 3,
   "metadata": {},
   "outputs": [],
   "source": [
    "#Loading Dataset\n",
    "df = pd.read_csv('Laliga.csv')"
   ]
  },
  {
   "cell_type": "code",
   "execution_count": 4,
   "metadata": {},
   "outputs": [
    {
     "data": {
      "text/html": [
       "<div>\n",
       "<style scoped>\n",
       "    .dataframe tbody tr th:only-of-type {\n",
       "        vertical-align: middle;\n",
       "    }\n",
       "\n",
       "    .dataframe tbody tr th {\n",
       "        vertical-align: top;\n",
       "    }\n",
       "\n",
       "    .dataframe thead th {\n",
       "        text-align: right;\n",
       "    }\n",
       "</style>\n",
       "<table border=\"1\" class=\"dataframe\">\n",
       "  <thead>\n",
       "    <tr style=\"text-align: right;\">\n",
       "      <th></th>\n",
       "      <th>Unnamed: 0</th>\n",
       "      <th>Unnamed: 1</th>\n",
       "      <th>Unnamed: 2</th>\n",
       "      <th>Unnamed: 3</th>\n",
       "      <th>Unnamed: 4</th>\n",
       "      <th>Unnamed: 5</th>\n",
       "      <th>Unnamed: 6</th>\n",
       "      <th>Unnamed: 7</th>\n",
       "      <th>Unnamed: 8</th>\n",
       "      <th>Unnamed: 9</th>\n",
       "      <th>Unnamed: 10</th>\n",
       "      <th>Unnamed: 11</th>\n",
       "      <th>Unnamed: 12</th>\n",
       "      <th>Unnamed: 13</th>\n",
       "      <th>Unnamed: 14</th>\n",
       "      <th>Unnamed: 15</th>\n",
       "      <th>Unnamed: 16</th>\n",
       "      <th>Unnamed: 17</th>\n",
       "      <th>Unnamed: 18</th>\n",
       "      <th>Unnamed: 19</th>\n",
       "    </tr>\n",
       "  </thead>\n",
       "  <tbody>\n",
       "    <tr>\n",
       "      <th>0</th>\n",
       "      <td>Pos</td>\n",
       "      <td>Team</td>\n",
       "      <td>Seasons</td>\n",
       "      <td>Points</td>\n",
       "      <td>GamesPlayed</td>\n",
       "      <td>GamesWon</td>\n",
       "      <td>GamesDrawn</td>\n",
       "      <td>GamesLost</td>\n",
       "      <td>GoalsFor</td>\n",
       "      <td>GoalsAgainst</td>\n",
       "      <td>Champion</td>\n",
       "      <td>Runner-up</td>\n",
       "      <td>Third</td>\n",
       "      <td>Fourth</td>\n",
       "      <td>Fifth</td>\n",
       "      <td>Sixth</td>\n",
       "      <td>T</td>\n",
       "      <td>Debut</td>\n",
       "      <td>Since/LastApp</td>\n",
       "      <td>BestPosition</td>\n",
       "    </tr>\n",
       "    <tr>\n",
       "      <th>1</th>\n",
       "      <td>1</td>\n",
       "      <td>Real Madrid</td>\n",
       "      <td>86</td>\n",
       "      <td>4385</td>\n",
       "      <td>2762</td>\n",
       "      <td>1647</td>\n",
       "      <td>552</td>\n",
       "      <td>563</td>\n",
       "      <td>5947</td>\n",
       "      <td>3140</td>\n",
       "      <td>33</td>\n",
       "      <td>23</td>\n",
       "      <td>8</td>\n",
       "      <td>8</td>\n",
       "      <td>3</td>\n",
       "      <td>4</td>\n",
       "      <td>79</td>\n",
       "      <td>1929</td>\n",
       "      <td>1929</td>\n",
       "      <td>1</td>\n",
       "    </tr>\n",
       "    <tr>\n",
       "      <th>2</th>\n",
       "      <td>2</td>\n",
       "      <td>Barcelona</td>\n",
       "      <td>86</td>\n",
       "      <td>4262</td>\n",
       "      <td>2762</td>\n",
       "      <td>1581</td>\n",
       "      <td>573</td>\n",
       "      <td>608</td>\n",
       "      <td>5900</td>\n",
       "      <td>3114</td>\n",
       "      <td>25</td>\n",
       "      <td>25</td>\n",
       "      <td>12</td>\n",
       "      <td>12</td>\n",
       "      <td>4</td>\n",
       "      <td>6</td>\n",
       "      <td>83</td>\n",
       "      <td>1929</td>\n",
       "      <td>1929</td>\n",
       "      <td>1</td>\n",
       "    </tr>\n",
       "    <tr>\n",
       "      <th>3</th>\n",
       "      <td>3</td>\n",
       "      <td>Atletico Madrid</td>\n",
       "      <td>80</td>\n",
       "      <td>3442</td>\n",
       "      <td>2614</td>\n",
       "      <td>1241</td>\n",
       "      <td>598</td>\n",
       "      <td>775</td>\n",
       "      <td>4534</td>\n",
       "      <td>3309</td>\n",
       "      <td>10</td>\n",
       "      <td>8</td>\n",
       "      <td>16</td>\n",
       "      <td>9</td>\n",
       "      <td>7</td>\n",
       "      <td>6</td>\n",
       "      <td>56</td>\n",
       "      <td>1929</td>\n",
       "      <td>2002-03</td>\n",
       "      <td>1</td>\n",
       "    </tr>\n",
       "    <tr>\n",
       "      <th>4</th>\n",
       "      <td>4</td>\n",
       "      <td>Valencia</td>\n",
       "      <td>82</td>\n",
       "      <td>3386</td>\n",
       "      <td>2664</td>\n",
       "      <td>1187</td>\n",
       "      <td>616</td>\n",
       "      <td>861</td>\n",
       "      <td>4398</td>\n",
       "      <td>3469</td>\n",
       "      <td>6</td>\n",
       "      <td>6</td>\n",
       "      <td>10</td>\n",
       "      <td>11</td>\n",
       "      <td>10</td>\n",
       "      <td>7</td>\n",
       "      <td>50</td>\n",
       "      <td>1931-32</td>\n",
       "      <td>1987-88</td>\n",
       "      <td>1</td>\n",
       "    </tr>\n",
       "  </tbody>\n",
       "</table>\n",
       "</div>"
      ],
      "text/plain": [
       "  Unnamed: 0       Unnamed: 1 Unnamed: 2 Unnamed: 3   Unnamed: 4 Unnamed: 5  \\\n",
       "0        Pos             Team    Seasons     Points  GamesPlayed   GamesWon   \n",
       "1          1      Real Madrid         86       4385         2762       1647   \n",
       "2          2        Barcelona         86       4262         2762       1581   \n",
       "3          3  Atletico Madrid         80       3442         2614       1241   \n",
       "4          4         Valencia         82       3386         2664       1187   \n",
       "\n",
       "   Unnamed: 6 Unnamed: 7 Unnamed: 8    Unnamed: 9 Unnamed: 10 Unnamed: 11  \\\n",
       "0  GamesDrawn  GamesLost   GoalsFor  GoalsAgainst    Champion   Runner-up   \n",
       "1         552        563       5947          3140          33          23   \n",
       "2         573        608       5900          3114          25          25   \n",
       "3         598        775       4534          3309          10           8   \n",
       "4         616        861       4398          3469           6           6   \n",
       "\n",
       "  Unnamed: 12 Unnamed: 13 Unnamed: 14 Unnamed: 15 Unnamed: 16 Unnamed: 17  \\\n",
       "0       Third      Fourth       Fifth       Sixth           T       Debut   \n",
       "1           8           8           3           4          79        1929   \n",
       "2          12          12           4           6          83        1929   \n",
       "3          16           9           7           6          56        1929   \n",
       "4          10          11          10           7          50     1931-32   \n",
       "\n",
       "     Unnamed: 18   Unnamed: 19  \n",
       "0  Since/LastApp  BestPosition  \n",
       "1           1929             1  \n",
       "2           1929             1  \n",
       "3        2002-03             1  \n",
       "4        1987-88             1  "
      ]
     },
     "execution_count": 4,
     "metadata": {},
     "output_type": "execute_result"
    }
   ],
   "source": [
    "#Checking Top 5 rows\n",
    "df.head()"
   ]
  },
  {
   "cell_type": "code",
   "execution_count": 5,
   "metadata": {},
   "outputs": [],
   "source": [
    "column = df.iloc[0]   #Extracting Column name from first Row"
   ]
  },
  {
   "cell_type": "code",
   "execution_count": 6,
   "metadata": {},
   "outputs": [],
   "source": [
    "df.columns = column   #Assigning Column name to current unnamed columns"
   ]
  },
  {
   "cell_type": "code",
   "execution_count": 7,
   "metadata": {},
   "outputs": [],
   "source": [
    "df.drop(index = 0 ,axis=1,inplace = True)   # Removing First Row"
   ]
  },
  {
   "cell_type": "code",
   "execution_count": 8,
   "metadata": {},
   "outputs": [],
   "source": [
    "df.reset_index(drop=True,inplace=True)  # Resetting Index"
   ]
  },
  {
   "cell_type": "code",
   "execution_count": 9,
   "metadata": {},
   "outputs": [
    {
     "data": {
      "text/html": [
       "<div>\n",
       "<style scoped>\n",
       "    .dataframe tbody tr th:only-of-type {\n",
       "        vertical-align: middle;\n",
       "    }\n",
       "\n",
       "    .dataframe tbody tr th {\n",
       "        vertical-align: top;\n",
       "    }\n",
       "\n",
       "    .dataframe thead th {\n",
       "        text-align: right;\n",
       "    }\n",
       "</style>\n",
       "<table border=\"1\" class=\"dataframe\">\n",
       "  <thead>\n",
       "    <tr style=\"text-align: right;\">\n",
       "      <th></th>\n",
       "      <th>Pos</th>\n",
       "      <th>Team</th>\n",
       "      <th>Seasons</th>\n",
       "      <th>Points</th>\n",
       "      <th>GamesPlayed</th>\n",
       "      <th>GamesWon</th>\n",
       "      <th>GamesDrawn</th>\n",
       "      <th>GamesLost</th>\n",
       "      <th>GoalsFor</th>\n",
       "      <th>GoalsAgainst</th>\n",
       "      <th>Champion</th>\n",
       "      <th>Runner-up</th>\n",
       "      <th>Third</th>\n",
       "      <th>Fourth</th>\n",
       "      <th>Fifth</th>\n",
       "      <th>Sixth</th>\n",
       "      <th>T</th>\n",
       "      <th>Debut</th>\n",
       "      <th>Since/LastApp</th>\n",
       "      <th>BestPosition</th>\n",
       "    </tr>\n",
       "  </thead>\n",
       "  <tbody>\n",
       "    <tr>\n",
       "      <th>0</th>\n",
       "      <td>1</td>\n",
       "      <td>Real Madrid</td>\n",
       "      <td>86</td>\n",
       "      <td>4385</td>\n",
       "      <td>2762</td>\n",
       "      <td>1647</td>\n",
       "      <td>552</td>\n",
       "      <td>563</td>\n",
       "      <td>5947</td>\n",
       "      <td>3140</td>\n",
       "      <td>33</td>\n",
       "      <td>23</td>\n",
       "      <td>8</td>\n",
       "      <td>8</td>\n",
       "      <td>3</td>\n",
       "      <td>4</td>\n",
       "      <td>79</td>\n",
       "      <td>1929</td>\n",
       "      <td>1929</td>\n",
       "      <td>1</td>\n",
       "    </tr>\n",
       "    <tr>\n",
       "      <th>1</th>\n",
       "      <td>2</td>\n",
       "      <td>Barcelona</td>\n",
       "      <td>86</td>\n",
       "      <td>4262</td>\n",
       "      <td>2762</td>\n",
       "      <td>1581</td>\n",
       "      <td>573</td>\n",
       "      <td>608</td>\n",
       "      <td>5900</td>\n",
       "      <td>3114</td>\n",
       "      <td>25</td>\n",
       "      <td>25</td>\n",
       "      <td>12</td>\n",
       "      <td>12</td>\n",
       "      <td>4</td>\n",
       "      <td>6</td>\n",
       "      <td>83</td>\n",
       "      <td>1929</td>\n",
       "      <td>1929</td>\n",
       "      <td>1</td>\n",
       "    </tr>\n",
       "    <tr>\n",
       "      <th>2</th>\n",
       "      <td>3</td>\n",
       "      <td>Atletico Madrid</td>\n",
       "      <td>80</td>\n",
       "      <td>3442</td>\n",
       "      <td>2614</td>\n",
       "      <td>1241</td>\n",
       "      <td>598</td>\n",
       "      <td>775</td>\n",
       "      <td>4534</td>\n",
       "      <td>3309</td>\n",
       "      <td>10</td>\n",
       "      <td>8</td>\n",
       "      <td>16</td>\n",
       "      <td>9</td>\n",
       "      <td>7</td>\n",
       "      <td>6</td>\n",
       "      <td>56</td>\n",
       "      <td>1929</td>\n",
       "      <td>2002-03</td>\n",
       "      <td>1</td>\n",
       "    </tr>\n",
       "    <tr>\n",
       "      <th>3</th>\n",
       "      <td>4</td>\n",
       "      <td>Valencia</td>\n",
       "      <td>82</td>\n",
       "      <td>3386</td>\n",
       "      <td>2664</td>\n",
       "      <td>1187</td>\n",
       "      <td>616</td>\n",
       "      <td>861</td>\n",
       "      <td>4398</td>\n",
       "      <td>3469</td>\n",
       "      <td>6</td>\n",
       "      <td>6</td>\n",
       "      <td>10</td>\n",
       "      <td>11</td>\n",
       "      <td>10</td>\n",
       "      <td>7</td>\n",
       "      <td>50</td>\n",
       "      <td>1931-32</td>\n",
       "      <td>1987-88</td>\n",
       "      <td>1</td>\n",
       "    </tr>\n",
       "    <tr>\n",
       "      <th>4</th>\n",
       "      <td>5</td>\n",
       "      <td>Athletic Bilbao</td>\n",
       "      <td>86</td>\n",
       "      <td>3368</td>\n",
       "      <td>2762</td>\n",
       "      <td>1209</td>\n",
       "      <td>633</td>\n",
       "      <td>920</td>\n",
       "      <td>4631</td>\n",
       "      <td>3700</td>\n",
       "      <td>8</td>\n",
       "      <td>7</td>\n",
       "      <td>10</td>\n",
       "      <td>5</td>\n",
       "      <td>8</td>\n",
       "      <td>10</td>\n",
       "      <td>49</td>\n",
       "      <td>1929</td>\n",
       "      <td>1929</td>\n",
       "      <td>1</td>\n",
       "    </tr>\n",
       "  </tbody>\n",
       "</table>\n",
       "</div>"
      ],
      "text/plain": [
       "0 Pos             Team Seasons Points GamesPlayed GamesWon GamesDrawn  \\\n",
       "0   1      Real Madrid      86   4385        2762     1647        552   \n",
       "1   2        Barcelona      86   4262        2762     1581        573   \n",
       "2   3  Atletico Madrid      80   3442        2614     1241        598   \n",
       "3   4         Valencia      82   3386        2664     1187        616   \n",
       "4   5  Athletic Bilbao      86   3368        2762     1209        633   \n",
       "\n",
       "0 GamesLost GoalsFor GoalsAgainst Champion Runner-up Third Fourth Fifth Sixth  \\\n",
       "0       563     5947         3140       33        23     8      8     3     4   \n",
       "1       608     5900         3114       25        25    12     12     4     6   \n",
       "2       775     4534         3309       10         8    16      9     7     6   \n",
       "3       861     4398         3469        6         6    10     11    10     7   \n",
       "4       920     4631         3700        8         7    10      5     8    10   \n",
       "\n",
       "0   T    Debut Since/LastApp BestPosition  \n",
       "0  79     1929          1929            1  \n",
       "1  83     1929          1929            1  \n",
       "2  56     1929       2002-03            1  \n",
       "3  50  1931-32       1987-88            1  \n",
       "4  49     1929          1929            1  "
      ]
     },
     "execution_count": 9,
     "metadata": {},
     "output_type": "execute_result"
    }
   ],
   "source": [
    "df.head()"
   ]
  },
  {
   "cell_type": "code",
   "execution_count": 10,
   "metadata": {},
   "outputs": [],
   "source": [
    "# There is hyphen separating the years in Debut and Since/Last column. Let's remove these hyphens to make these columns \n",
    "# appropriate for arithmatic calculations\n",
    "\n",
    "l1 = []\n",
    "for i in df['Debut'].values:\n",
    "    x = i.split('-')[0]\n",
    "    l1.append(x)\n",
    "df['Debut'] = l1\n",
    "    \n",
    "l2 = []\n",
    "for i in df['Since/LastApp'].values:\n",
    "    x = i.split('-')[0]\n",
    "    l2.append(x)\n",
    "df['Since/LastApp'] = l2"
   ]
  },
  {
   "cell_type": "code",
   "execution_count": 11,
   "metadata": {},
   "outputs": [],
   "source": [
    "# Replace hyphens with Zero \n",
    "\n",
    "l = ['Seasons', 'Points', 'GamesPlayed', 'GamesWon','GamesDrawn', 'GamesLost', 'GoalsFor', 'GoalsAgainst', 'Champion',\n",
    "     'Runner-up', 'Third', 'Fourth', 'Fifth', 'Sixth', 'T', 'Debut']\n",
    "df[l] = df[l].replace('-',0)"
   ]
  },
  {
   "cell_type": "code",
   "execution_count": 12,
   "metadata": {},
   "outputs": [
    {
     "data": {
      "text/html": [
       "<div>\n",
       "<style scoped>\n",
       "    .dataframe tbody tr th:only-of-type {\n",
       "        vertical-align: middle;\n",
       "    }\n",
       "\n",
       "    .dataframe tbody tr th {\n",
       "        vertical-align: top;\n",
       "    }\n",
       "\n",
       "    .dataframe thead th {\n",
       "        text-align: right;\n",
       "    }\n",
       "</style>\n",
       "<table border=\"1\" class=\"dataframe\">\n",
       "  <thead>\n",
       "    <tr style=\"text-align: right;\">\n",
       "      <th></th>\n",
       "      <th>Pos</th>\n",
       "      <th>Team</th>\n",
       "      <th>Seasons</th>\n",
       "      <th>Points</th>\n",
       "      <th>GamesPlayed</th>\n",
       "      <th>GamesWon</th>\n",
       "      <th>GamesDrawn</th>\n",
       "      <th>GamesLost</th>\n",
       "      <th>GoalsFor</th>\n",
       "      <th>GoalsAgainst</th>\n",
       "      <th>Champion</th>\n",
       "      <th>Runner-up</th>\n",
       "      <th>Third</th>\n",
       "      <th>Fourth</th>\n",
       "      <th>Fifth</th>\n",
       "      <th>Sixth</th>\n",
       "      <th>T</th>\n",
       "      <th>Debut</th>\n",
       "      <th>Since/LastApp</th>\n",
       "      <th>BestPosition</th>\n",
       "    </tr>\n",
       "  </thead>\n",
       "  <tbody>\n",
       "    <tr>\n",
       "      <th>0</th>\n",
       "      <td>1</td>\n",
       "      <td>Real Madrid</td>\n",
       "      <td>86</td>\n",
       "      <td>4385</td>\n",
       "      <td>2762</td>\n",
       "      <td>1647</td>\n",
       "      <td>552</td>\n",
       "      <td>563</td>\n",
       "      <td>5947</td>\n",
       "      <td>3140</td>\n",
       "      <td>33</td>\n",
       "      <td>23</td>\n",
       "      <td>8</td>\n",
       "      <td>8</td>\n",
       "      <td>3</td>\n",
       "      <td>4</td>\n",
       "      <td>79</td>\n",
       "      <td>1929</td>\n",
       "      <td>1929</td>\n",
       "      <td>1</td>\n",
       "    </tr>\n",
       "    <tr>\n",
       "      <th>1</th>\n",
       "      <td>2</td>\n",
       "      <td>Barcelona</td>\n",
       "      <td>86</td>\n",
       "      <td>4262</td>\n",
       "      <td>2762</td>\n",
       "      <td>1581</td>\n",
       "      <td>573</td>\n",
       "      <td>608</td>\n",
       "      <td>5900</td>\n",
       "      <td>3114</td>\n",
       "      <td>25</td>\n",
       "      <td>25</td>\n",
       "      <td>12</td>\n",
       "      <td>12</td>\n",
       "      <td>4</td>\n",
       "      <td>6</td>\n",
       "      <td>83</td>\n",
       "      <td>1929</td>\n",
       "      <td>1929</td>\n",
       "      <td>1</td>\n",
       "    </tr>\n",
       "    <tr>\n",
       "      <th>2</th>\n",
       "      <td>3</td>\n",
       "      <td>Atletico Madrid</td>\n",
       "      <td>80</td>\n",
       "      <td>3442</td>\n",
       "      <td>2614</td>\n",
       "      <td>1241</td>\n",
       "      <td>598</td>\n",
       "      <td>775</td>\n",
       "      <td>4534</td>\n",
       "      <td>3309</td>\n",
       "      <td>10</td>\n",
       "      <td>8</td>\n",
       "      <td>16</td>\n",
       "      <td>9</td>\n",
       "      <td>7</td>\n",
       "      <td>6</td>\n",
       "      <td>56</td>\n",
       "      <td>1929</td>\n",
       "      <td>2002</td>\n",
       "      <td>1</td>\n",
       "    </tr>\n",
       "    <tr>\n",
       "      <th>3</th>\n",
       "      <td>4</td>\n",
       "      <td>Valencia</td>\n",
       "      <td>82</td>\n",
       "      <td>3386</td>\n",
       "      <td>2664</td>\n",
       "      <td>1187</td>\n",
       "      <td>616</td>\n",
       "      <td>861</td>\n",
       "      <td>4398</td>\n",
       "      <td>3469</td>\n",
       "      <td>6</td>\n",
       "      <td>6</td>\n",
       "      <td>10</td>\n",
       "      <td>11</td>\n",
       "      <td>10</td>\n",
       "      <td>7</td>\n",
       "      <td>50</td>\n",
       "      <td>1931</td>\n",
       "      <td>1987</td>\n",
       "      <td>1</td>\n",
       "    </tr>\n",
       "    <tr>\n",
       "      <th>4</th>\n",
       "      <td>5</td>\n",
       "      <td>Athletic Bilbao</td>\n",
       "      <td>86</td>\n",
       "      <td>3368</td>\n",
       "      <td>2762</td>\n",
       "      <td>1209</td>\n",
       "      <td>633</td>\n",
       "      <td>920</td>\n",
       "      <td>4631</td>\n",
       "      <td>3700</td>\n",
       "      <td>8</td>\n",
       "      <td>7</td>\n",
       "      <td>10</td>\n",
       "      <td>5</td>\n",
       "      <td>8</td>\n",
       "      <td>10</td>\n",
       "      <td>49</td>\n",
       "      <td>1929</td>\n",
       "      <td>1929</td>\n",
       "      <td>1</td>\n",
       "    </tr>\n",
       "  </tbody>\n",
       "</table>\n",
       "</div>"
      ],
      "text/plain": [
       "0 Pos             Team Seasons Points GamesPlayed GamesWon GamesDrawn  \\\n",
       "0   1      Real Madrid      86   4385        2762     1647        552   \n",
       "1   2        Barcelona      86   4262        2762     1581        573   \n",
       "2   3  Atletico Madrid      80   3442        2614     1241        598   \n",
       "3   4         Valencia      82   3386        2664     1187        616   \n",
       "4   5  Athletic Bilbao      86   3368        2762     1209        633   \n",
       "\n",
       "0 GamesLost GoalsFor GoalsAgainst Champion Runner-up Third Fourth Fifth Sixth  \\\n",
       "0       563     5947         3140       33        23     8      8     3     4   \n",
       "1       608     5900         3114       25        25    12     12     4     6   \n",
       "2       775     4534         3309       10         8    16      9     7     6   \n",
       "3       861     4398         3469        6         6    10     11    10     7   \n",
       "4       920     4631         3700        8         7    10      5     8    10   \n",
       "\n",
       "0   T Debut Since/LastApp BestPosition  \n",
       "0  79  1929          1929            1  \n",
       "1  83  1929          1929            1  \n",
       "2  56  1929          2002            1  \n",
       "3  50  1931          1987            1  \n",
       "4  49  1929          1929            1  "
      ]
     },
     "execution_count": 12,
     "metadata": {},
     "output_type": "execute_result"
    }
   ],
   "source": [
    "df.head()   #Checking if hyphen is removed"
   ]
  },
  {
   "cell_type": "code",
   "execution_count": 13,
   "metadata": {},
   "outputs": [
    {
     "data": {
      "text/plain": [
       "0\n",
       "Pos              object\n",
       "Team             object\n",
       "Seasons          object\n",
       "Points           object\n",
       "GamesPlayed      object\n",
       "GamesWon         object\n",
       "GamesDrawn       object\n",
       "GamesLost        object\n",
       "GoalsFor         object\n",
       "GoalsAgainst     object\n",
       "Champion         object\n",
       "Runner-up        object\n",
       "Third            object\n",
       "Fourth           object\n",
       "Fifth            object\n",
       "Sixth            object\n",
       "T                object\n",
       "Debut            object\n",
       "Since/LastApp    object\n",
       "BestPosition     object\n",
       "dtype: object"
      ]
     },
     "execution_count": 13,
     "metadata": {},
     "output_type": "execute_result"
    }
   ],
   "source": [
    "df.dtypes    #Checking Datatypes"
   ]
  },
  {
   "cell_type": "code",
   "execution_count": 14,
   "metadata": {},
   "outputs": [],
   "source": [
    "# All the numerical columns have datatypes as Objects, We need to change it to Numeric so as to make arithmatic calculations \n",
    "# on them\n",
    "\n",
    "l= []\n",
    "for i in df.columns:\n",
    "    if i!= 'Team':\n",
    "        l.append(i)\n",
    "\n",
    "df[l] = df[l].astype('int64')"
   ]
  },
  {
   "cell_type": "code",
   "execution_count": 15,
   "metadata": {},
   "outputs": [
    {
     "data": {
      "text/plain": [
       "0\n",
       "Pos               int64\n",
       "Team             object\n",
       "Seasons           int64\n",
       "Points            int64\n",
       "GamesPlayed       int64\n",
       "GamesWon          int64\n",
       "GamesDrawn        int64\n",
       "GamesLost         int64\n",
       "GoalsFor          int64\n",
       "GoalsAgainst      int64\n",
       "Champion          int64\n",
       "Runner-up         int64\n",
       "Third             int64\n",
       "Fourth            int64\n",
       "Fifth             int64\n",
       "Sixth             int64\n",
       "T                 int64\n",
       "Debut             int64\n",
       "Since/LastApp     int64\n",
       "BestPosition      int64\n",
       "dtype: object"
      ]
     },
     "execution_count": 15,
     "metadata": {},
     "output_type": "execute_result"
    }
   ],
   "source": [
    "df.dtypes   # Again checking Datatypes to check if changes are visible in orignal dataframe"
   ]
  },
  {
   "cell_type": "markdown",
   "metadata": {},
   "source": [
    "##### 1.\tWhich are the teams which started playing between 1930-1980?"
   ]
  },
  {
   "cell_type": "code",
   "execution_count": 16,
   "metadata": {},
   "outputs": [],
   "source": [
    "teams = df[(df['Debut'] > 1930) & (df['Debut'] < 1980)]['Team'].values"
   ]
  },
  {
   "cell_type": "code",
   "execution_count": 17,
   "metadata": {},
   "outputs": [
    {
     "name": "stdout",
     "output_type": "stream",
     "text": [
      "The Teams which started playing between 1930 and 1980 are:\n",
      "\n",
      "Valencia\n",
      "Sevilla\n",
      "Zaragoza\n",
      "Real Betis\n",
      "Deportivo La Coruna\n",
      "Celta Vigo\n",
      "Valladolid\n",
      "Sporting Gijon\n",
      "Osasuna\n",
      "Malaga\n",
      "Oviedo\n",
      "Mallorca\n",
      "Las Palmas\n",
      "Granada\n",
      "Rayo Vallecano\n",
      "Elche\n",
      "Hercules\n",
      "Tenerife\n",
      "Murcia\n",
      "Levante\n",
      "Salamanca\n",
      "Sabadell\n",
      "Cadiz\n",
      "Castellon\n",
      "Cordoba\n",
      "Recreativo\n",
      "Burgos CF\n",
      "Pontevedra\n",
      "Gimnastic\n",
      "Alcoyano\n",
      "Jaen\n",
      "AD Almeria\n",
      "Lleida\n",
      "Condal\n",
      "Atletico Tetuan\n",
      "Cultural Leonesa\n"
     ]
    }
   ],
   "source": [
    "print('The Teams which started playing between 1930 and 1980 are:\\n')\n",
    "for i in teams:\n",
    "    print(i,end='\\n')"
   ]
  },
  {
   "cell_type": "markdown",
   "metadata": {},
   "source": [
    "##### 2.\tWhich are the top 5 teams in terms of points?"
   ]
  },
  {
   "cell_type": "code",
   "execution_count": 18,
   "metadata": {},
   "outputs": [
    {
     "name": "stdout",
     "output_type": "stream",
     "text": [
      "The Top Five teams in terms of Point are:\n",
      "\n",
      "Real Madrid\n",
      "Barcelona\n",
      "Atletico Madrid\n",
      "Valencia\n",
      "Athletic Bilbao\n"
     ]
    }
   ],
   "source": [
    "top_five_index = df['Points'].sort_values().nlargest(5).index\n",
    "top_five = df.iloc[top_five_index,1].values\n",
    "print('The Top Five teams in terms of Point are:\\n')\n",
    "for i in top_five:\n",
    "    print(i,end='\\n')"
   ]
  },
  {
   "cell_type": "markdown",
   "metadata": {},
   "source": [
    "##### 3.\tWhat is the distribution of the winning percentage for all teams? Which teams are in the top 5 in terms of winning percentage? (Winning percentage= (GamesWon / GamesPlayed)*100)"
   ]
  },
  {
   "cell_type": "code",
   "execution_count": 19,
   "metadata": {},
   "outputs": [],
   "source": [
    "df['winning_per'] = df['GamesWon'] / df['GamesPlayed'] *100"
   ]
  },
  {
   "cell_type": "code",
   "execution_count": 20,
   "metadata": {},
   "outputs": [
    {
     "data": {
      "image/png": "[encoded data removed]",
      "text/plain": [
       "<Figure size 1080x576 with 1 Axes>"
      ]
     },
     "metadata": {
      "needs_background": "light"
     },
     "output_type": "display_data"
    }
   ],
   "source": [
    "plt.figure(figsize=(15,8))\n",
    "sns.distplot(df['winning_per'],hist=False,kde_kws={'lw':2,'shade':True,'color':'gold'})\n",
    "plt.xlabel('Winning Percentage')\n",
    "plt.show()"
   ]
  },
  {
   "cell_type": "markdown",
   "metadata": {},
   "source": [
    "##### Inference: \n",
    "The Distribution of Winning Percentage is Right Skewed indicating that few teams have very high winning percentage as compared to others"
   ]
  },
  {
   "cell_type": "code",
   "execution_count": 21,
   "metadata": {},
   "outputs": [
    {
     "name": "stdout",
     "output_type": "stream",
     "text": [
      "The Top Five teams in terms of Point are:\n",
      "\n",
      "Real Madrid\n",
      "Barcelona\n",
      "Atletico Madrid\n",
      "Valencia\n",
      "Athletic Bilbao\n"
     ]
    }
   ],
   "source": [
    "top_five_index = df['winning_per'].sort_values().nlargest(5).index\n",
    "top_five = df.iloc[top_five_index,1].values\n",
    "print('The Top Five teams in terms of Point are:\\n')\n",
    "for i in top_five:\n",
    "    print(i,end='\\n')"
   ]
  },
  {
   "cell_type": "markdown",
   "metadata": {},
   "source": [
    "##### 4.\tIs there a significant difference in the winning percentage for teams which have attained a best position between 1-3 and those teams which have had a best position between 4-7."
   ]
  },
  {
   "cell_type": "markdown",
   "metadata": {},
   "source": [
    "Here, We have to check if there is significant difference between Winning Percentage of teams with best Position 1-3 (Group 1)\n",
    "and 4-7 (Group 2);\n",
    "According to situation give Two sampmle two tailed t test is to be performed.\n",
    "\n",
    "##### Null and Alternate hypothesis for the test are given below\n",
    "\n",
    "H0 : There is no significant difference between Winning Percentage of both the groups (Mean Winning Percentage Group1 = Mean Winning Percentage Group2)\n",
    "\n",
    "H1 : There is significant difference between Winning Percentage of both the groups (Mean Winning Percentage Group1 != Mean Winning Percentage Group2)\n",
    "    "
   ]
  },
  {
   "cell_type": "code",
   "execution_count": 22,
   "metadata": {},
   "outputs": [],
   "source": [
    "# Dividing the data into two Groups\n",
    "G1 = df[(df['BestPosition'] == 1) | (df['BestPosition'] == 2) | (df['BestPosition'] == 3)]['winning_per']\n",
    "G2 = df[(df['BestPosition'] == 4) | (df['BestPosition'] == 5) | (df['BestPosition'] == 6) | (df['BestPosition'] == 7) ]['winning_per']"
   ]
  },
  {
   "cell_type": "code",
   "execution_count": 23,
   "metadata": {},
   "outputs": [
    {
     "name": "stdout",
     "output_type": "stream",
     "text": [
      "T statistics is 0.8252524733543396\n",
      "P Value is 0.003532945876941085\n"
     ]
    }
   ],
   "source": [
    "# Checking For Normality of Group 1\n",
    "t_stat , p_val = stats.shapiro(G1)\n",
    "print('T statistics is',t_stat)\n",
    "print('P Value is', p_val)"
   ]
  },
  {
   "cell_type": "markdown",
   "metadata": {},
   "source": [
    "As P Value is less than 0.05, The Group 1 does not follow Normal Distribution."
   ]
  },
  {
   "cell_type": "code",
   "execution_count": 24,
   "metadata": {},
   "outputs": [
    {
     "name": "stdout",
     "output_type": "stream",
     "text": [
      "T statistics is 0.9436671733856201\n",
      "P Value is 0.2809881269931793\n"
     ]
    }
   ],
   "source": [
    "# Checking For Normality of Group 2\n",
    "t_stat , p_val = stats.shapiro(G2)\n",
    "print('T statistics is',t_stat)\n",
    "print('P Value is', p_val)"
   ]
  },
  {
   "cell_type": "markdown",
   "metadata": {},
   "source": [
    "As P Value is greater than 0.05, The Group 2  follows Normal Distribution."
   ]
  },
  {
   "cell_type": "code",
   "execution_count": 25,
   "metadata": {},
   "outputs": [
    {
     "name": "stdout",
     "output_type": "stream",
     "text": [
      "T statistics is 8.724629449043212\n",
      "P Value is 0.0055024902317928875\n"
     ]
    }
   ],
   "source": [
    "# Checking for equal Variance\n",
    "t_stat , p_val = stats.levene(G1,G2)\n",
    "print('T statistics is',t_stat)\n",
    "print('P Value is', p_val)"
   ]
  },
  {
   "cell_type": "markdown",
   "metadata": {},
   "source": [
    "As P Value is less than 0.05, The Two groups under consideration dont have equal Variance"
   ]
  },
  {
   "cell_type": "markdown",
   "metadata": {},
   "source": [
    "As, One of the group doesnt follow normal distribution and also two groups under consideration dont have equal Variance,\n",
    "We can not perform parametric Test."
   ]
  },
  {
   "cell_type": "code",
   "execution_count": 26,
   "metadata": {},
   "outputs": [
    {
     "name": "stdout",
     "output_type": "stream",
     "text": [
      "T statistics is 11.0\n",
      "P Value is 4.1876636593687686e-07\n"
     ]
    }
   ],
   "source": [
    "# Non-Parametric Test (MannWhiteneyu)\n",
    "\n",
    "t_stat , p_val = stats.mannwhitneyu(G1,G2)\n",
    "print('T statistics is',t_stat)\n",
    "print('P Value is', p_val)"
   ]
  },
  {
   "cell_type": "markdown",
   "metadata": {},
   "source": [
    "P Values is very less than 0.05, Hence We rejact Null Hypothesis."
   ]
  },
  {
   "cell_type": "markdown",
   "metadata": {},
   "source": [
    "##### Inference:  We can see the p value is very vary less than 0.05 , so we can confidently say that there is significsnt difference in Winning Percentage of teams with best Position 1-3 (Group 1) and 4-7 (Group 2)."
   ]
  },
  {
   "cell_type": "markdown",
   "metadata": {},
   "source": [
    "### 2. A study was done to measure the blood pressure of 60 year old women with glaucoma. A random sample of 200 60-year old women with glaucoma was chosen. The mean of the systolic blood pressure in the sample was 140 mm Hg and the standard deviation was 25 mm Hg.\n",
    "\n",
    "a)\tCalculate the estimated standard error of the sample mean? What does the standard error indicate?\n",
    "\n",
    "b)\tEstimate a 95% confidence interval for the true mean blood pressure for all 60-year old women with glaucoma.\n",
    "\n",
    "c)\tAssume that instead of 200, a random sample of only 100 60-year old women with glaucoma was chosen. The sample mean and standard deviation estimates are the same as those in the original study. What is the estimated 95% confidence interval for the true mean blood pressure?\n",
    "\n",
    "d)\tWhich of the two above intervals are wider?\n",
    "\n",
    "e)\tExplain in non-technical terms why the estimated standard error of a sample mean tends to decrease with an increase in sample size.\n"
   ]
  },
  {
   "cell_type": "markdown",
   "metadata": {},
   "source": [
    "##### a)\tCalculate the estimated standard error of the sample mean? What does the standard error indicate?"
   ]
  },
  {
   "cell_type": "code",
   "execution_count": 27,
   "metadata": {},
   "outputs": [
    {
     "name": "stdout",
     "output_type": "stream",
     "text": [
      "The estimated Standard Error is  1.7677669529663687\n"
     ]
    }
   ],
   "source": [
    "sd = 25\n",
    "xbar = 140\n",
    "n = 200\n",
    "se = sd/np.sqrt(n)\n",
    "print('The estimated Standard Error is ', se)"
   ]
  },
  {
   "cell_type": "markdown",
   "metadata": {},
   "source": [
    "##### Standard error statistics measure how accurate and precise the sample is as an estimate of the population parameter"
   ]
  },
  {
   "cell_type": "markdown",
   "metadata": {},
   "source": [
    "##### b)\tEstimate a 95% confidence interval for the true mean blood pressure for all 60-year old women with glaucoma."
   ]
  },
  {
   "cell_type": "code",
   "execution_count": 28,
   "metadata": {},
   "outputs": [
    {
     "name": "stdout",
     "output_type": "stream",
     "text": [
      "95% confidence interval for the true mean blood pressure for all 60-year old women with glaucoma is between 136.5352404391258 and 143.4647595608742\n"
     ]
    }
   ],
   "source": [
    "u, l =stats.norm.interval(0.95,xbar,se)\n",
    "print('95% confidence interval for the true mean blood pressure for all 60-year old women with glaucoma is between {} and {}'.format(u,l))"
   ]
  },
  {
   "cell_type": "markdown",
   "metadata": {},
   "source": [
    "##### c)\tAssume that instead of 200, a random sample of only 100 60-year old women with glaucoma was chosen. The sample mean and standard deviation estimates are the same as those in the original study. What is the estimated 95% confidence interval for the true mean blood pressure?"
   ]
  },
  {
   "cell_type": "code",
   "execution_count": 29,
   "metadata": {},
   "outputs": [
    {
     "name": "stdout",
     "output_type": "stream",
     "text": [
      "The estimated Standard Error is  2.5\n",
      "After changing sample size to 100, 95% confidence interval for the true mean blood pressure for all 60-year old women \n",
      "with glaucoma is between 135.10009003864985 and 144.89990996135015\n"
     ]
    }
   ],
   "source": [
    "sd = 25\n",
    "xbar = 140\n",
    "n = 100\n",
    "se = sd/np.sqrt(n)\n",
    "print('The estimated Standard Error is ', se)\n",
    "u, l =stats.norm.interval(0.95,xbar,se)\n",
    "print('''After changing sample size to 100, 95% confidence interval for the true mean blood pressure for all 60-year old women \n",
    "with glaucoma is between {} and {}'''.format(u,l))"
   ]
  },
  {
   "cell_type": "markdown",
   "metadata": {},
   "source": [
    "##### d)\tWhich of the two above intervals are wider?"
   ]
  },
  {
   "cell_type": "markdown",
   "metadata": {},
   "source": [
    "The second interval with lesser sample size is wider becuase of lesser sample size the standard error is more"
   ]
  },
  {
   "cell_type": "markdown",
   "metadata": {},
   "source": [
    "##### e)\tExplain in non-technical terms why the estimated standard error of a sample mean tends to decrease with an increase in sample size."
   ]
  },
  {
   "cell_type": "markdown",
   "metadata": {},
   "source": [
    "Standard error decreases when sample size increases – as the sample size gets closer to the true size of the population, \n",
    "the sample means cluster more and more around the true population mean."
   ]
  },
  {
   "cell_type": "markdown",
   "metadata": {},
   "source": [
    "### 3. Par Inc., is a major manufacturer of golf equipment. Management believes that Par’s market share could be increased with the introduction of a cut-resistant, longer-lasting golf ball. Therefore, the research group at Par has been investigating a new golf ball coating designed to resist cuts and provide a more durable ball. The tests with the coating have been promising.\n",
    "\n",
    "One of the researchers voiced concern about the effect of the new coating on driving distances. Par would like the new cut-resistant ball to offer driving distances comparable to those of the current-model golf ball. To compare the driving distances for the two balls, 40 balls of both the new and current models were subjected to distance tests. The testing was performed with a mechanical hitting machine so that any difference between the mean distances for the two models could be attributed to a difference in the design. The results of the tests, with distances measured to the nearest yard, are contained in   the data set “Golf”.\n",
    "\n",
    "1.\tFormulate and present the rationale for a hypothesis test that Par could use to compare the driving distances of the current and new golf balls.\n",
    "2.\tAnalyze the data to provide the hypothesis testing conclusion. What is the p-value for your test? What is your recommendation for Par Inc.?\n",
    "3.\tWhat is the 95% confidence interval for the population mean of each model, and what is the 95% confidence interval for the difference between the means of the two population?\n"
   ]
  },
  {
   "cell_type": "markdown",
   "metadata": {},
   "source": [
    "##### 1.\tFormulate and present the rationale for a hypothesis test that Par could use to compare the driving distances of the current and new golf balls."
   ]
  },
  {
   "cell_type": "markdown",
   "metadata": {},
   "source": [
    "H0 : There is NO significant difference between driving distance of old and New balls (Mean distance covered by Current ball = Mean distance covered by New Ball)\n",
    "\n",
    "H1 : There is significant difference between driving distance of old and New balls (Mean distance covered by Current ball != Mean distance covered by New Ball)"
   ]
  },
  {
   "cell_type": "markdown",
   "metadata": {},
   "source": [
    "##### 2.\tAnalyze the data to provide the hypothesis testing conclusion. What is the p-value for your test? What is your recommendation for Par Inc.?"
   ]
  },
  {
   "cell_type": "code",
   "execution_count": 30,
   "metadata": {},
   "outputs": [],
   "source": [
    "df = pd.read_csv('Golf.csv')\n",
    "old = df['Current']\n",
    "new = df['New']"
   ]
  },
  {
   "cell_type": "code",
   "execution_count": 31,
   "metadata": {},
   "outputs": [
    {
     "name": "stdout",
     "output_type": "stream",
     "text": [
      "T statistics is 0.9707046747207642\n",
      "P Value is 0.378787100315094\n"
     ]
    }
   ],
   "source": [
    "# Checking For Normality of distribution of old \n",
    "t_stat , p_val = stats.shapiro(old)\n",
    "print('T statistics is',t_stat)\n",
    "print('P Value is', p_val)"
   ]
  },
  {
   "cell_type": "markdown",
   "metadata": {},
   "source": [
    "As P Value is more than 0.05, The Data Old follows Normal Distribution."
   ]
  },
  {
   "cell_type": "code",
   "execution_count": 32,
   "metadata": {},
   "outputs": [
    {
     "name": "stdout",
     "output_type": "stream",
     "text": [
      "T statistics is 0.9678263664245605\n",
      "P Value is 0.3064655363559723\n"
     ]
    }
   ],
   "source": [
    "# Checking For Normality of Group 2\n",
    "t_stat , p_val = stats.shapiro(new)\n",
    "print('T statistics is',t_stat)\n",
    "print('P Value is', p_val)"
   ]
  },
  {
   "cell_type": "markdown",
   "metadata": {},
   "source": [
    "As P Value is more than 0.05, The Data New follows Normal Distribution."
   ]
  },
  {
   "cell_type": "code",
   "execution_count": 33,
   "metadata": {},
   "outputs": [
    {
     "name": "stdout",
     "output_type": "stream",
     "text": [
      "T statistics is 0.2553238291765741\n",
      "P Value is 0.6147759523331309\n"
     ]
    }
   ],
   "source": [
    "# Checking for equal Variance\n",
    "t_stat , p_val = stats.levene(old,new)\n",
    "print('T statistics is',t_stat)\n",
    "print('P Value is', p_val)"
   ]
  },
  {
   "cell_type": "markdown",
   "metadata": {},
   "source": [
    "As P Value is more than 0.05, The Two groups under consideration have equal Variance"
   ]
  },
  {
   "cell_type": "markdown",
   "metadata": {},
   "source": [
    "##### As both the samples follow Normal Distrubution and also have equal variance, Hence we can perform Parametric test"
   ]
  },
  {
   "cell_type": "code",
   "execution_count": 34,
   "metadata": {},
   "outputs": [
    {
     "name": "stdout",
     "output_type": "stream",
     "text": [
      "P Value is for the test is 0.18793228491854663\n"
     ]
    }
   ],
   "source": [
    "t_stat , p_val = stats.ttest_ind(old,new)\n",
    "print('P Value is for the test is', p_val)"
   ]
  },
  {
   "cell_type": "markdown",
   "metadata": {},
   "source": [
    "##### Conclusion : As p_value is more than 0.05, We fail to reject Null Hypothesis. We can conclude that there is NO significant difference between driving distance of old and New balls."
   ]
  },
  {
   "cell_type": "markdown",
   "metadata": {},
   "source": [
    "#### Recomendation : It is recomended to Par inc that they shoud go ahead with the production of new ball."
   ]
  },
  {
   "cell_type": "markdown",
   "metadata": {},
   "source": [
    "##### 3.\tWhat is the 95% confidence interval for the population mean of each model, and what is the 95% confidence interval for the difference between the means of the two population?"
   ]
  },
  {
   "cell_type": "code",
   "execution_count": 35,
   "metadata": {},
   "outputs": [
    {
     "name": "stdout",
     "output_type": "stream",
     "text": [
      "95% confidence interval for population mean of Current ball distance covered is between 267.56247173951107 and 272.9875282604889\n"
     ]
    }
   ],
   "source": [
    "xbar_old = old.mean()\n",
    "sd_old = np.std(old,ddof=1)\n",
    "n= 40\n",
    "se = sd_old/np.sqrt(n)\n",
    "u, l =stats.norm.interval(0.95,xbar_old,se)\n",
    "print('95% confidence interval for population mean of Current ball distance covered is between {} and {}'.format(u,l))"
   ]
  },
  {
   "cell_type": "code",
   "execution_count": 36,
   "metadata": {},
   "outputs": [
    {
     "name": "stdout",
     "output_type": "stream",
     "text": [
      "95% confidence interval for population mean of Current ball distance covered is between 264.43297388933604 and 270.56702611066396\n"
     ]
    }
   ],
   "source": [
    "xbar_new = new.mean()\n",
    "sd_new = np.std(new,ddof=1)\n",
    "n= 40\n",
    "se = sd_new/np.sqrt(n)\n",
    "u, l =stats.norm.interval(0.95,xbar_new,se)\n",
    "print('95% confidence interval for population mean of Current ball distance covered is between {} and {}'.format(u,l))"
   ]
  },
  {
   "cell_type": "code",
   "execution_count": 37,
   "metadata": {},
   "outputs": [
    {
     "data": {
      "text/plain": [
       "2.08903962108466"
      ]
     },
     "execution_count": 37,
     "metadata": {},
     "output_type": "execute_result"
    }
   ],
   "source": [
    "xbar_diff = xbar_old - xbar_new\n",
    "sd_mean_diff = np.sqrt((df['Current'].var(ddof=1)) + (df['New'].var(ddof=1)))\n",
    "se_mean_diff = sd_mean_diff/np.sqrt(n)\n",
    "se_mean_diff"
   ]
  },
  {
   "cell_type": "code",
   "execution_count": 38,
   "metadata": {},
   "outputs": [
    {
     "data": {
      "text/plain": [
       "13.212246649925271"
      ]
     },
     "execution_count": 38,
     "metadata": {},
     "output_type": "execute_result"
    }
   ],
   "source": [
    "sd_mean_diff"
   ]
  },
  {
   "cell_type": "code",
   "execution_count": 39,
   "metadata": {},
   "outputs": [
    {
     "data": {
      "text/plain": [
       "(-1.4504814558217243, 7.000481455821679)"
      ]
     },
     "execution_count": 39,
     "metadata": {},
     "output_type": "execute_result"
    }
   ],
   "source": [
    "stats.t.interval(0.95,loc=xbar_diff,scale=se_mean_diff,df=n-1)"
   ]
  }
 ],
 "metadata": {
  "kernelspec": {
   "display_name": "Python 3",
   "language": "python",
   "name": "python3"
  },
  "language_info": {
   "codemirror_mode": {
    "name": "ipython",
    "version": 3
   },
   "file_extension": ".py",
   "mimetype": "text/x-python",
   "name": "python",
   "nbconvert_exporter": "python",
   "pygments_lexer": "ipython3",
   "version": "3.8.3"
  }
 },
 "nbformat": 4,
 "nbformat_minor": 4
}
